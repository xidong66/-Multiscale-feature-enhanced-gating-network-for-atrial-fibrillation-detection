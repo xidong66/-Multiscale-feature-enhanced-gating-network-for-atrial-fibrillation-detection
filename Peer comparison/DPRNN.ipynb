{
 "cells": [
  {
   "cell_type": "code",
   "execution_count": 1,
   "metadata": {},
   "outputs": [
    {
     "name": "stderr",
     "output_type": "stream",
     "text": [
      "c:\\ProgramData\\anaconda3\\envs\\tensorflow\\lib\\site-packages\\scipy\\__init__.py:132: UserWarning: A NumPy version >=1.21.6 and <1.28.0 is required for this version of SciPy (detected version 1.20.3)\n",
      "  warnings.warn(f\"A NumPy version >={np_minversion} and <{np_maxversion}\"\n"
     ]
    }
   ],
   "source": [
    "import os\n",
    "import numpy as np\n",
    "import pywt\n",
    "import random\n",
    "import seaborn as sns\n",
    "import tensorflow as tf\n",
    "from keras.layers import Add\n",
    "from tensorflow.keras.utils import to_categorical\n",
    "from tensorflow.keras.layers import (\n",
    "  Input, Conv1D, BatchNormalization, Activation, GlobalAveragePooling1D, \n",
    "  Dense, Dropout, GRU, Concatenate, LayerNormalization, MultiHeadAttention, \n",
    "  Reshape, Multiply, Softmax\n",
    ")\n",
    "from sklearn.model_selection import train_test_split\n",
    "from sklearn.manifold import TSNE\n",
    "from sklearn.utils import shuffle\n",
    "from sklearn.preprocessing import MinMaxScaler\n",
    "from matplotlib import pyplot as plt\n",
    "from utils import (\n",
    "  encode_labels, check_gpu_availability, plot_loss_accuracytupian, \n",
    "  evaluate_model, plot_confusion_matrixtupian, plot_tsne, \n",
    "  plot_precision_recall_curve_multiclasstupian, plot_roc_curve_multiclasstupian, \n",
    "  AdjustLearningRateCallback, denoise2,count_labels,denoise2_iterative2,AdjustLearningRateCallback\n",
    ")\n",
    "from utils import plot_precision_recall_curve_multiclass,plot_roc_curve_multiclass2,calculate_g_mean,plot_confusion_matrix,plot_confusion_matrix2,plot_loss_accuracy\n",
    "from tensorflow.keras.callbacks import EarlyStopping\n",
    "from tensorflow.keras.models import Model\n",
    "from tensorflow.keras.layers import Conv1DTranspose\n"
   ]
  },
  {
   "cell_type": "code",
   "execution_count": 2,
   "metadata": {},
   "outputs": [
    {
     "name": "stdout",
     "output_type": "stream",
     "text": [
      "GPU 可用\n"
     ]
    }
   ],
   "source": [
    "check_gpu_availability()"
   ]
  },
  {
   "cell_type": "code",
   "execution_count": 3,
   "metadata": {},
   "outputs": [],
   "source": [
    "datafilename1 = \"C:\\\\Users\\\\Administrator\\\\Desktop\\\\database\\\\cinc2017denoise.npz\"\n",
    "data1 = np.load(datafilename1, allow_pickle=True)\n",
    "X_train, y_train, X_val, y_val, X_test, y_test = data1['ecgstrain'], data1['labelstrain'], data1['ecgsval'], data1['labelsval'], data1['ecgstest'], data1['labelstest']"
   ]
  },
  {
   "cell_type": "code",
   "execution_count": 4,
   "metadata": {},
   "outputs": [],
   "source": [
    "y_train = encode_labels(y_train)\n",
    "y_test = encode_labels(y_test)\n",
    "y_val= encode_labels(y_val)\n",
    "y_train = to_categorical(y_train, num_classes=4)\n",
    "y_val=to_categorical(y_val, num_classes=4)\n",
    "y_test = to_categorical(y_test, num_classes=4)"
   ]
  },
  {
   "cell_type": "code",
   "execution_count": 5,
   "metadata": {},
   "outputs": [
    {
     "name": "stdout",
     "output_type": "stream",
     "text": [
      "Model: \"model\"\n",
      "__________________________________________________________________________________________________\n",
      "Layer (type)                    Output Shape         Param #     Connected to                     \n",
      "==================================================================================================\n",
      "input_1 (InputLayer)            [(None, 4500, 1)]    0                                            \n",
      "__________________________________________________________________________________________________\n",
      "conv1d (Conv1D)                 (None, 1125, 32)     1024        input_1[0][0]                    \n",
      "__________________________________________________________________________________________________\n",
      "batch_normalization (BatchNorma (None, 1125, 32)     128         conv1d[0][0]                     \n",
      "__________________________________________________________________________________________________\n",
      "activation (Activation)         (None, 1125, 32)     0           batch_normalization[0][0]        \n",
      "__________________________________________________________________________________________________\n",
      "conv1d_1 (Conv1D)               (None, 563, 32)      3104        activation[0][0]                 \n",
      "__________________________________________________________________________________________________\n",
      "batch_normalization_1 (BatchNor (None, 563, 32)      128         conv1d_1[0][0]                   \n",
      "__________________________________________________________________________________________________\n",
      "activation_1 (Activation)       (None, 563, 32)      0           batch_normalization_1[0][0]      \n",
      "__________________________________________________________________________________________________\n",
      "conv1d_2 (Conv1D)               (None, 563, 32)      3104        activation_1[0][0]               \n",
      "__________________________________________________________________________________________________\n",
      "conv1d_3 (Conv1D)               (None, 563, 32)      1056        activation[0][0]                 \n",
      "__________________________________________________________________________________________________\n",
      "batch_normalization_2 (BatchNor (None, 563, 32)      128         conv1d_2[0][0]                   \n",
      "__________________________________________________________________________________________________\n",
      "batch_normalization_3 (BatchNor (None, 563, 32)      128         conv1d_3[0][0]                   \n",
      "__________________________________________________________________________________________________\n",
      "add (Add)                       (None, 563, 32)      0           batch_normalization_2[0][0]      \n",
      "                                                                 batch_normalization_3[0][0]      \n",
      "__________________________________________________________________________________________________\n",
      "activation_2 (Activation)       (None, 563, 32)      0           add[0][0]                        \n",
      "__________________________________________________________________________________________________\n",
      "conv1d_4 (Conv1D)               (None, 282, 64)      6208        activation_2[0][0]               \n",
      "__________________________________________________________________________________________________\n",
      "batch_normalization_4 (BatchNor (None, 282, 64)      256         conv1d_4[0][0]                   \n",
      "__________________________________________________________________________________________________\n",
      "activation_3 (Activation)       (None, 282, 64)      0           batch_normalization_4[0][0]      \n",
      "__________________________________________________________________________________________________\n",
      "conv1d_5 (Conv1D)               (None, 282, 64)      12352       activation_3[0][0]               \n",
      "__________________________________________________________________________________________________\n",
      "conv1d_6 (Conv1D)               (None, 282, 64)      2112        activation_2[0][0]               \n",
      "__________________________________________________________________________________________________\n",
      "batch_normalization_5 (BatchNor (None, 282, 64)      256         conv1d_5[0][0]                   \n",
      "__________________________________________________________________________________________________\n",
      "batch_normalization_6 (BatchNor (None, 282, 64)      256         conv1d_6[0][0]                   \n",
      "__________________________________________________________________________________________________\n",
      "add_1 (Add)                     (None, 282, 64)      0           batch_normalization_5[0][0]      \n",
      "                                                                 batch_normalization_6[0][0]      \n",
      "__________________________________________________________________________________________________\n",
      "activation_4 (Activation)       (None, 282, 64)      0           add_1[0][0]                      \n",
      "__________________________________________________________________________________________________\n",
      "conv1d_7 (Conv1D)               (None, 141, 64)      12352       activation_4[0][0]               \n",
      "__________________________________________________________________________________________________\n",
      "batch_normalization_7 (BatchNor (None, 141, 64)      256         conv1d_7[0][0]                   \n",
      "__________________________________________________________________________________________________\n",
      "activation_5 (Activation)       (None, 141, 64)      0           batch_normalization_7[0][0]      \n",
      "__________________________________________________________________________________________________\n",
      "conv1d_8 (Conv1D)               (None, 141, 64)      12352       activation_5[0][0]               \n",
      "__________________________________________________________________________________________________\n",
      "conv1d_9 (Conv1D)               (None, 141, 64)      4160        activation_4[0][0]               \n",
      "__________________________________________________________________________________________________\n",
      "batch_normalization_8 (BatchNor (None, 141, 64)      256         conv1d_8[0][0]                   \n",
      "__________________________________________________________________________________________________\n",
      "batch_normalization_9 (BatchNor (None, 141, 64)      256         conv1d_9[0][0]                   \n",
      "__________________________________________________________________________________________________\n",
      "add_2 (Add)                     (None, 141, 64)      0           batch_normalization_8[0][0]      \n",
      "                                                                 batch_normalization_9[0][0]      \n",
      "__________________________________________________________________________________________________\n",
      "activation_6 (Activation)       (None, 141, 64)      0           add_2[0][0]                      \n",
      "__________________________________________________________________________________________________\n",
      "tf.compat.v1.transpose (TFOpLam (None, 64, 141)      0           activation_6[0][0]               \n",
      "__________________________________________________________________________________________________\n",
      "gru_1 (GRU)                     (None, 64, 256)      306432      tf.compat.v1.transpose[0][0]     \n",
      "__________________________________________________________________________________________________\n",
      "dropout_1 (Dropout)             (None, 64, 256)      0           gru_1[0][0]                      \n",
      "__________________________________________________________________________________________________\n",
      "global_average_pooling1d (Globa (None, 256)          0           dropout_1[0][0]                  \n",
      "__________________________________________________________________________________________________\n",
      "dense (Dense)                   (None, 128)          32896       global_average_pooling1d[0][0]   \n",
      "__________________________________________________________________________________________________\n",
      "dense_1 (Dense)                 (None, 4)            516         dense[0][0]                      \n",
      "==================================================================================================\n",
      "Total params: 399,716\n",
      "Trainable params: 398,692\n",
      "Non-trainable params: 1,024\n",
      "__________________________________________________________________________________________________\n"
     ]
    }
   ],
   "source": [
    "from tensorflow.keras.layers import GlobalAveragePooling1D, Concatenate\n",
    "import tensorflow as tf\n",
    "from tensorflow.keras.layers import Input, Conv1D, BatchNormalization, Activation, Add, GlobalAveragePooling1D, Dropout, Dense\n",
    "from tensorflow.keras.models import Model\n",
    "\n",
    "def residual_block(x, filters, kernel_size, strides):\n",
    "    shortcut = x\n",
    "    # 主卷积路径\n",
    "    x = Conv1D(filters, kernel_size, strides=strides, padding='same')(x)\n",
    "    x = BatchNormalization()(x)\n",
    "    x = Activation('relu')(x)\n",
    "    x = Conv1D(filters, kernel_size, padding='same')(x)\n",
    "    x = BatchNormalization()(x)\n",
    "\n",
    "    # 如果shortcut的形状与x不匹配，则调整shortcut\n",
    "    if shortcut.shape[-1] != x.shape[-1] or shortcut.shape[-2] != x.shape[-2]:\n",
    "        shortcut = Conv1D(filters, 1, strides=strides, padding='same')(shortcut)\n",
    "        shortcut = BatchNormalization()(shortcut)\n",
    "\n",
    "    # 添加跳过连接\n",
    "    x = Add()([x, shortcut])\n",
    "    x = Activation('relu')(x)\n",
    "    return x\n",
    "\n",
    "def build_model(input_shape, num_classes):\n",
    "    inputs = Input(shape=input_shape)\n",
    "    x = Conv1D(32, 31, strides=4, padding='same')(inputs)\n",
    "    x = BatchNormalization()(x)\n",
    "    x = Activation('relu')(x)\n",
    "    # Residual blocks\n",
    "    x = residual_block(x, 32, 3, 2)\n",
    "    x = residual_block(x, 64, 3, 2)\n",
    "    x = residual_block(x, 64, 3, 2)\n",
    "    x_row = GRU(256, return_sequences=True)(x)\n",
    "    x_row= Dropout(0.1)(x_row)\n",
    "    x_col = GRU(256, return_sequences=True)(tf.transpose(x, [0, 2, 1]))\n",
    "    x_col = Dropout(0.1)(x_col)\n",
    "    x_col_pooled = GlobalAveragePooling1D()(x_col)\n",
    "    x_dense = Dense(128, activation='relu')(x_col_pooled)\n",
    "    outputs = Dense(num_classes, activation='softmax')(x_dense)\n",
    "    model = Model(inputs=inputs, outputs=outputs)\n",
    "    model.compile(optimizer='adam', loss='categorical_crossentropy', metrics=['accuracy'])\n",
    "    return model\n",
    "model = build_model((4500, 1), 4)\n",
    "model.summary()"
   ]
  },
  {
   "cell_type": "code",
   "execution_count": 6,
   "metadata": {},
   "outputs": [
    {
     "name": "stdout",
     "output_type": "stream",
     "text": [
      "Epoch 1/80\n",
      "55/55 [==============================] - 14s 70ms/step - loss: 0.4063 - accuracy: 0.5966 - val_loss: 0.4986 - val_accuracy: 0.3422\n",
      "Epoch 2/80\n",
      "55/55 [==============================] - 3s 54ms/step - loss: 0.3447 - accuracy: 0.6625 - val_loss: 0.6587 - val_accuracy: 0.3046\n",
      "Epoch 3/80\n",
      "55/55 [==============================] - 3s 52ms/step - loss: 0.3015 - accuracy: 0.7185 - val_loss: 0.8645 - val_accuracy: 0.1542\n",
      "Reduced learning rate to 0.00010000000474974513.\n",
      "Epoch 4/80\n",
      "55/55 [==============================] - 3s 53ms/step - loss: 0.2669 - accuracy: 0.7605 - val_loss: 0.5784 - val_accuracy: 0.3580\n",
      "Epoch 5/80\n",
      "55/55 [==============================] - 3s 55ms/step - loss: 0.2592 - accuracy: 0.7721 - val_loss: 0.4050 - val_accuracy: 0.5597\n",
      "Epoch 6/80\n",
      "55/55 [==============================] - 3s 53ms/step - loss: 0.2525 - accuracy: 0.7788 - val_loss: 0.3158 - val_accuracy: 0.6986\n",
      "Epoch 7/80\n",
      "55/55 [==============================] - 3s 52ms/step - loss: 0.2474 - accuracy: 0.7863 - val_loss: 0.3044 - val_accuracy: 0.7183\n",
      "Epoch 8/80\n",
      "55/55 [==============================] - 3s 52ms/step - loss: 0.2402 - accuracy: 0.7955 - val_loss: 0.3100 - val_accuracy: 0.7052\n",
      "Epoch 9/80\n",
      "55/55 [==============================] - 3s 54ms/step - loss: 0.2344 - accuracy: 0.8023 - val_loss: 0.3217 - val_accuracy: 0.6877\n",
      "Reduced learning rate to 1.0000000656873453e-05.\n",
      "Epoch 10/80\n",
      "55/55 [==============================] - 3s 53ms/step - loss: 0.2277 - accuracy: 0.8113 - val_loss: 0.2698 - val_accuracy: 0.7635\n",
      "Epoch 11/80\n",
      "55/55 [==============================] - 3s 55ms/step - loss: 0.2261 - accuracy: 0.8116 - val_loss: 0.2606 - val_accuracy: 0.7782\n",
      "Epoch 12/80\n",
      "55/55 [==============================] - 3s 54ms/step - loss: 0.2255 - accuracy: 0.8113 - val_loss: 0.2577 - val_accuracy: 0.7787\n",
      "Epoch 13/80\n",
      "55/55 [==============================] - 3s 53ms/step - loss: 0.2247 - accuracy: 0.8143 - val_loss: 0.2569 - val_accuracy: 0.7798\n",
      "Epoch 14/80\n",
      "55/55 [==============================] - 3s 53ms/step - loss: 0.2241 - accuracy: 0.8150 - val_loss: 0.2562 - val_accuracy: 0.7787\n",
      "Epoch 15/80\n",
      "55/55 [==============================] - 3s 53ms/step - loss: 0.2227 - accuracy: 0.8157 - val_loss: 0.2562 - val_accuracy: 0.7815\n",
      "Epoch 16/80\n",
      "55/55 [==============================] - 3s 54ms/step - loss: 0.2222 - accuracy: 0.8175 - val_loss: 0.2556 - val_accuracy: 0.7815\n",
      "Epoch 17/80\n",
      "55/55 [==============================] - 3s 54ms/step - loss: 0.2219 - accuracy: 0.8168 - val_loss: 0.2559 - val_accuracy: 0.7809\n",
      "Epoch 18/80\n",
      "55/55 [==============================] - 3s 53ms/step - loss: 0.2218 - accuracy: 0.8166 - val_loss: 0.2551 - val_accuracy: 0.7804\n",
      "Epoch 19/80\n",
      "55/55 [==============================] - 3s 53ms/step - loss: 0.2208 - accuracy: 0.8185 - val_loss: 0.2550 - val_accuracy: 0.7804\n",
      "Epoch 20/80\n",
      "55/55 [==============================] - 3s 53ms/step - loss: 0.2202 - accuracy: 0.8202 - val_loss: 0.2547 - val_accuracy: 0.7793\n",
      "Epoch 21/80\n",
      "55/55 [==============================] - 3s 54ms/step - loss: 0.2195 - accuracy: 0.8198 - val_loss: 0.2549 - val_accuracy: 0.7798\n",
      "Epoch 22/80\n",
      "55/55 [==============================] - 3s 53ms/step - loss: 0.2188 - accuracy: 0.8192 - val_loss: 0.2542 - val_accuracy: 0.7820\n",
      "Epoch 23/80\n",
      "55/55 [==============================] - 3s 53ms/step - loss: 0.2183 - accuracy: 0.8224 - val_loss: 0.2544 - val_accuracy: 0.7798\n",
      "Epoch 24/80\n",
      "55/55 [==============================] - 3s 53ms/step - loss: 0.2181 - accuracy: 0.8203 - val_loss: 0.2540 - val_accuracy: 0.7798\n",
      "Epoch 25/80\n",
      "55/55 [==============================] - 3s 55ms/step - loss: 0.2165 - accuracy: 0.8248 - val_loss: 0.2537 - val_accuracy: 0.7831\n",
      "Epoch 26/80\n",
      "55/55 [==============================] - 3s 53ms/step - loss: 0.2162 - accuracy: 0.8248 - val_loss: 0.2541 - val_accuracy: 0.7820\n",
      "Epoch 27/80\n",
      "55/55 [==============================] - 3s 55ms/step - loss: 0.2163 - accuracy: 0.8231 - val_loss: 0.2536 - val_accuracy: 0.7815\n",
      "Epoch 28/80\n",
      "55/55 [==============================] - 3s 54ms/step - loss: 0.2151 - accuracy: 0.8280 - val_loss: 0.2540 - val_accuracy: 0.7826\n",
      "Epoch 29/80\n",
      "55/55 [==============================] - 3s 55ms/step - loss: 0.2143 - accuracy: 0.8264 - val_loss: 0.2534 - val_accuracy: 0.7891\n",
      "Epoch 30/80\n",
      "55/55 [==============================] - 3s 52ms/step - loss: 0.2137 - accuracy: 0.8276 - val_loss: 0.2532 - val_accuracy: 0.7804\n",
      "Epoch 31/80\n",
      "55/55 [==============================] - 3s 52ms/step - loss: 0.2131 - accuracy: 0.8284 - val_loss: 0.2531 - val_accuracy: 0.7804\n",
      "Epoch 32/80\n",
      "55/55 [==============================] - 3s 52ms/step - loss: 0.2129 - accuracy: 0.8279 - val_loss: 0.2528 - val_accuracy: 0.7837\n",
      "Epoch 33/80\n",
      "55/55 [==============================] - 3s 53ms/step - loss: 0.2118 - accuracy: 0.8314 - val_loss: 0.2527 - val_accuracy: 0.7820\n",
      "Epoch 34/80\n",
      "55/55 [==============================] - 3s 52ms/step - loss: 0.2119 - accuracy: 0.8299 - val_loss: 0.2529 - val_accuracy: 0.7809\n",
      "Epoch 35/80\n",
      "55/55 [==============================] - 3s 53ms/step - loss: 0.2104 - accuracy: 0.8317 - val_loss: 0.2524 - val_accuracy: 0.7869\n",
      "Epoch 36/80\n",
      "55/55 [==============================] - 3s 53ms/step - loss: 0.2101 - accuracy: 0.8319 - val_loss: 0.2519 - val_accuracy: 0.7831\n",
      "Epoch 37/80\n",
      "55/55 [==============================] - 3s 52ms/step - loss: 0.2102 - accuracy: 0.8336 - val_loss: 0.2517 - val_accuracy: 0.7875\n",
      "Epoch 38/80\n",
      "55/55 [==============================] - 3s 52ms/step - loss: 0.2089 - accuracy: 0.8343 - val_loss: 0.2513 - val_accuracy: 0.7853\n",
      "Epoch 39/80\n",
      "55/55 [==============================] - 3s 54ms/step - loss: 0.2086 - accuracy: 0.8339 - val_loss: 0.2516 - val_accuracy: 0.7886\n",
      "Epoch 40/80\n",
      "55/55 [==============================] - 3s 54ms/step - loss: 0.2079 - accuracy: 0.8340 - val_loss: 0.2514 - val_accuracy: 0.7875\n",
      "Reduced learning rate to 1.0000001111620804e-06.\n",
      "Epoch 41/80\n",
      "55/55 [==============================] - 3s 53ms/step - loss: 0.2064 - accuracy: 0.8353 - val_loss: 0.2514 - val_accuracy: 0.7875\n",
      "Epoch 42/80\n",
      "55/55 [==============================] - 3s 54ms/step - loss: 0.2064 - accuracy: 0.8351 - val_loss: 0.2514 - val_accuracy: 0.7842\n",
      "Reduced learning rate to 1.0000001537946446e-07.\n",
      "Epoch 43/80\n",
      "55/55 [==============================] - 3s 53ms/step - loss: 0.2069 - accuracy: 0.8346 - val_loss: 0.2514 - val_accuracy: 0.7853\n"
     ]
    }
   ],
   "source": [
    "callback = AdjustLearningRateCallback(factor=0.1, patience=2, min_lr=1e-8)\n",
    "early_stopping = EarlyStopping(monitor='val_loss', patience=5)\n",
    "model.compile(optimizer='Adam', loss='binary_crossentropy', metrics=['accuracy'])\n",
    "history=model.fit(X_train, y_train, batch_size=256, epochs=80, validation_data=(X_val, y_val), callbacks=[callback,early_stopping])"
   ]
  },
  {
   "cell_type": "code",
   "execution_count": 7,
   "metadata": {},
   "outputs": [],
   "source": [
    "import numpy as np\n",
    "\n",
    "def add_low_frequency_noise_multidim(data, snr, frequency_range=(0, 5), sample_rate=300):\n",
    "    data_power = np.mean(data ** 2)\n",
    "    noise_power = data_power / (10 ** (snr / 10))\n",
    "    t = np.arange(data.shape[-1]) / sample_rate \n",
    "    noise_frequencies = np.random.uniform(frequency_range[0], frequency_range[1], size=data.shape[-1])\n",
    "    noise = np.sqrt(noise_power) * np.sin(2 * np.pi * noise_frequencies * t)\n",
    "    noisy_data = data + noise[None, ...] \n",
    "    \n",
    "    return noisy_data"
   ]
  },
  {
   "cell_type": "code",
   "execution_count": 8,
   "metadata": {},
   "outputs": [],
   "source": [
    "X_test_noisy = add_low_frequency_noise_multidim(X_test,0)"
   ]
  },
  {
   "cell_type": "code",
   "execution_count": 9,
   "metadata": {},
   "outputs": [
    {
     "name": "stdout",
     "output_type": "stream",
     "text": [
      "Precision: 0.5435898342756141\n",
      "Recall: 0.436074100936239\n",
      "F1 Score: 0.46018940230762895\n",
      "Accuracy: 0.7333065164923572\n",
      "Class 1 - Precision: 0.8, Recall: 0.29955947136563876, F1 Score: 0.43589743589743596\n",
      "Class 2 - Precision: 0.7887077997671711, Recall: 0.9027315123251166, F1 Score: 0.8418763591177385\n",
      "Class 3 - Precision: 0.5856515373352855, Recall: 0.5420054200542005, F1 Score: 0.5629838142153413\n",
      "Class 4 - Precision: 0.0, Recall: 0.0, F1 Score: 0.0\n",
      "Class 1 Accuracy: 0.9292035398230089\n",
      "Class 2 Accuracy: 0.7952534191472245\n",
      "Class 3 Accuracy: 0.7502011263073209\n",
      "Class 4 Accuracy: 0.9919549477071601\n"
     ]
    },
    {
     "name": "stderr",
     "output_type": "stream",
     "text": [
      "c:\\ProgramData\\anaconda3\\envs\\tensorflow\\lib\\site-packages\\sklearn\\metrics\\_classification.py:1469: UndefinedMetricWarning: Precision is ill-defined and being set to 0.0 in labels with no predicted samples. Use `zero_division` parameter to control this behavior.\n",
      "  _warn_prf(average, modifier, msg_start, len(result))\n",
      "c:\\ProgramData\\anaconda3\\envs\\tensorflow\\lib\\site-packages\\sklearn\\metrics\\_classification.py:1469: UndefinedMetricWarning: Precision is ill-defined and being set to 0.0 in labels with no predicted samples. Use `zero_division` parameter to control this behavior.\n",
      "  _warn_prf(average, modifier, msg_start, len(result))\n"
     ]
    }
   ],
   "source": [
    "evaluate_model(model,X_test_noisy ,y_test)"
   ]
  },
  {
   "cell_type": "code",
   "execution_count": 10,
   "metadata": {},
   "outputs": [],
   "source": [
    "X_test_noisy = add_low_frequency_noise_multidim(X_test,5)"
   ]
  },
  {
   "cell_type": "code",
   "execution_count": 11,
   "metadata": {},
   "outputs": [
    {
     "name": "stdout",
     "output_type": "stream",
     "text": [
      "Precision: 0.549662672975173\n",
      "Recall: 0.521922991372274\n",
      "F1 Score: 0.5337300410840708\n",
      "Accuracy: 0.7703137570394207\n",
      "Class 1 - Precision: 0.7248677248677249, Recall: 0.6035242290748899, F1 Score: 0.6586538461538463\n",
      "Class 2 - Precision: 0.8264615384615385, Recall: 0.8947368421052632, F1 Score: 0.8592450415866923\n",
      "Class 3 - Precision: 0.6473214285714286, Recall: 0.5894308943089431, F1 Score: 0.6170212765957447\n",
      "Class 4 - Precision: 0.0, Recall: 0.0, F1 Score: 0.0\n",
      "Class 1 Accuracy: 0.9428801287208367\n",
      "Class 2 Accuracy: 0.8230088495575221\n",
      "Class 3 Accuracy: 0.7827835880933226\n",
      "Class 4 Accuracy: 0.9919549477071601\n"
     ]
    },
    {
     "name": "stderr",
     "output_type": "stream",
     "text": [
      "c:\\ProgramData\\anaconda3\\envs\\tensorflow\\lib\\site-packages\\sklearn\\metrics\\_classification.py:1469: UndefinedMetricWarning: Precision is ill-defined and being set to 0.0 in labels with no predicted samples. Use `zero_division` parameter to control this behavior.\n",
      "  _warn_prf(average, modifier, msg_start, len(result))\n",
      "c:\\ProgramData\\anaconda3\\envs\\tensorflow\\lib\\site-packages\\sklearn\\metrics\\_classification.py:1469: UndefinedMetricWarning: Precision is ill-defined and being set to 0.0 in labels with no predicted samples. Use `zero_division` parameter to control this behavior.\n",
      "  _warn_prf(average, modifier, msg_start, len(result))\n"
     ]
    }
   ],
   "source": [
    "evaluate_model(model,X_test_noisy ,y_test)"
   ]
  },
  {
   "cell_type": "code",
   "execution_count": 12,
   "metadata": {},
   "outputs": [],
   "source": [
    "import numpy as np\n",
    "\n",
    "def add_high_frequency_noise_multidim(data, snr, frequency_range=(0, 200), sample_rate=300):\n",
    "    data_power = np.mean(data ** 2)\n",
    "    noise_power = data_power / (10 ** (snr / 10))\n",
    "    t = np.arange(data.shape[-1]) / sample_rate \n",
    "    noise_frequencies = np.random.uniform(frequency_range[0], frequency_range[1], size=data.shape[-1])\n",
    "    noise = np.sqrt(noise_power) * np.sin(2 * np.pi * noise_frequencies * t)\n",
    "    noisy_data = data + noise[None, ...] \n",
    "    \n",
    "    return noisy_data"
   ]
  },
  {
   "cell_type": "code",
   "execution_count": 13,
   "metadata": {},
   "outputs": [],
   "source": [
    "X_test_noisy = add_high_frequency_noise_multidim(X_test,0)"
   ]
  },
  {
   "cell_type": "code",
   "execution_count": 14,
   "metadata": {},
   "outputs": [
    {
     "name": "stdout",
     "output_type": "stream",
     "text": [
      "Precision: 0.5249282970914176\n",
      "Recall: 0.42476769821436255\n",
      "F1 Score: 0.44557741641074977\n",
      "Accuracy: 0.7308930008045053\n",
      "Class 1 - Precision: 0.7283950617283951, Recall: 0.2599118942731278, F1 Score: 0.38311688311688313\n",
      "Class 2 - Precision: 0.7872340425531915, Recall: 0.9120586275816123, F1 Score: 0.8450617283950617\n",
      "Class 3 - Precision: 0.5840840840840841, Recall: 0.5271002710027101, F1 Score: 0.5541310541310541\n",
      "Class 4 - Precision: 0.0, Recall: 0.0, F1 Score: 0.0\n",
      "Class 1 Accuracy: 0.9235720032180209\n",
      "Class 2 Accuracy: 0.7980691874497184\n",
      "Class 3 Accuracy: 0.7481898632341111\n",
      "Class 4 Accuracy: 0.9919549477071601\n"
     ]
    },
    {
     "name": "stderr",
     "output_type": "stream",
     "text": [
      "c:\\ProgramData\\anaconda3\\envs\\tensorflow\\lib\\site-packages\\sklearn\\metrics\\_classification.py:1469: UndefinedMetricWarning: Precision is ill-defined and being set to 0.0 in labels with no predicted samples. Use `zero_division` parameter to control this behavior.\n",
      "  _warn_prf(average, modifier, msg_start, len(result))\n",
      "c:\\ProgramData\\anaconda3\\envs\\tensorflow\\lib\\site-packages\\sklearn\\metrics\\_classification.py:1469: UndefinedMetricWarning: Precision is ill-defined and being set to 0.0 in labels with no predicted samples. Use `zero_division` parameter to control this behavior.\n",
      "  _warn_prf(average, modifier, msg_start, len(result))\n"
     ]
    }
   ],
   "source": [
    "evaluate_model(model,X_test_noisy,y_test)"
   ]
  },
  {
   "cell_type": "code",
   "execution_count": 15,
   "metadata": {},
   "outputs": [],
   "source": [
    "X_test_noisy = add_high_frequency_noise_multidim(X_test,5)"
   ]
  },
  {
   "cell_type": "code",
   "execution_count": 16,
   "metadata": {},
   "outputs": [
    {
     "name": "stdout",
     "output_type": "stream",
     "text": [
      "Precision: 0.5516620432459972\n",
      "Recall: 0.5179609506336693\n",
      "F1 Score: 0.5317708100776353\n",
      "Accuracy: 0.7739340305711987\n",
      "Class 1 - Precision: 0.7228260869565217, Recall: 0.5859030837004405, F1 Score: 0.6472019464720195\n",
      "Class 2 - Precision: 0.8238841978287093, Recall: 0.9100599600266489, F1 Score: 0.8648306426084204\n",
      "Class 3 - Precision: 0.6599378881987578, Recall: 0.575880758807588, F1 Score: 0.6150506512301012\n",
      "Class 4 - Precision: 0.0, Recall: 0.0, F1 Score: 0.0\n",
      "Class 1 Accuracy: 0.9416733708769107\n",
      "Class 2 Accuracy: 0.828238133547868\n",
      "Class 3 Accuracy: 0.7860016090104586\n",
      "Class 4 Accuracy: 0.9919549477071601\n"
     ]
    },
    {
     "name": "stderr",
     "output_type": "stream",
     "text": [
      "c:\\ProgramData\\anaconda3\\envs\\tensorflow\\lib\\site-packages\\sklearn\\metrics\\_classification.py:1469: UndefinedMetricWarning: Precision is ill-defined and being set to 0.0 in labels with no predicted samples. Use `zero_division` parameter to control this behavior.\n",
      "  _warn_prf(average, modifier, msg_start, len(result))\n",
      "c:\\ProgramData\\anaconda3\\envs\\tensorflow\\lib\\site-packages\\sklearn\\metrics\\_classification.py:1469: UndefinedMetricWarning: Precision is ill-defined and being set to 0.0 in labels with no predicted samples. Use `zero_division` parameter to control this behavior.\n",
      "  _warn_prf(average, modifier, msg_start, len(result))\n"
     ]
    }
   ],
   "source": [
    "evaluate_model(model,X_test_noisy ,y_test)"
   ]
  }
 ],
 "metadata": {
  "kernelspec": {
   "display_name": "tensorflow",
   "language": "python",
   "name": "python3"
  },
  "language_info": {
   "codemirror_mode": {
    "name": "ipython",
    "version": 3
   },
   "file_extension": ".py",
   "mimetype": "text/x-python",
   "name": "python",
   "nbconvert_exporter": "python",
   "pygments_lexer": "ipython3",
   "version": "0.0.0"
  }
 },
 "nbformat": 4,
 "nbformat_minor": 2
}
