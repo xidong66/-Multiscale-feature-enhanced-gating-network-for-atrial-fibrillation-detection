{
 "cells": [
  {
   "cell_type": "code",
   "execution_count": 1,
   "metadata": {},
   "outputs": [
    {
     "name": "stderr",
     "output_type": "stream",
     "text": [
      "c:\\ProgramData\\anaconda3\\envs\\tensorflow\\lib\\site-packages\\scipy\\__init__.py:132: UserWarning: A NumPy version >=1.21.6 and <1.28.0 is required for this version of SciPy (detected version 1.20.3)\n",
      "  warnings.warn(f\"A NumPy version >={np_minversion} and <{np_maxversion}\"\n"
     ]
    }
   ],
   "source": [
    "import os\n",
    "import numpy as np\n",
    "import pywt\n",
    "#from tqdm import tqdm"
   ]
  },
  {
   "cell_type": "code",
   "execution_count": 2,
   "metadata": {},
   "outputs": [],
   "source": [
    "# 加载数据\n",
    "datafilename1 = \"cinc2017Seg.npz\"\n",
    "data1 = np.load(datafilename1, allow_pickle=True)\n",
    "X_train, y_train, X_val, y_val, X_test, y_test = data1['ecgstrain'], data1['labelstrain'], data1['ecgsval'], data1['labelsval'], data1['ecgstest'], data1['labelstest']"
   ]
  },
  {
   "cell_type": "code",
   "execution_count": 3,
   "metadata": {},
   "outputs": [],
   "source": [
    "import numpy as np\n",
    "from scipy.fft import fft, ifft\n",
    "def autocorrelation(signal):\n",
    "    N = len(signal)\n",
    "    signal -= np.mean(signal)  \n",
    "    PSD = np.abs(fft(signal))**2\n",
    "    autocorr = ifft(PSD)\n",
    "    autocorr = np.real(autocorr)  \n",
    "    autocorr /= autocorr[0]  \n",
    "    return autocorr[:N]\n",
    "def nzopp(signal):\n",
    "    acf = autocorrelation(signal)\n",
    "    return np.sum(np.abs(np.diff(np.sign(acf))) > 0) / len(acf)\n",
    "def find_optimal_threshold(data, wavelet='db7', level=9, initial_thresholds=[0.1, 0.5, 0.9]):\n",
    "    optimal_threshold = None\n",
    "    threshold_diff = 1\n",
    "    thresholds = np.array(initial_thresholds)\n",
    "    while threshold_diff > 1e-10:\n",
    "        r_values = []\n",
    "        for threshold in (thresholds):\n",
    "            coeffs = pywt.wavedec(data=data, wavelet=wavelet, level=level)\n",
    "            for i in range(1, len(coeffs)):\n",
    "                coeffs[i] = pywt.threshold(coeffs[i], threshold, mode='soft')\n",
    "            rdata = pywt.waverec(coeffs=coeffs, wavelet=wavelet)\n",
    "            r_values.append(nzopp(rdata))\n",
    "        max_index = np.argmax(r_values)\n",
    "        optimal_threshold = thresholds[max_index]\n",
    "        if max_index == 0:\n",
    "            new_thresholds = np.linspace(thresholds[0], thresholds[1], 5)\n",
    "        elif max_index == len(thresholds) - 1:\n",
    "            new_thresholds = np.linspace(thresholds[-2], thresholds[-1], 5)\n",
    "        else:\n",
    "            new_thresholds = np.linspace(thresholds[max_index-1], thresholds[max_index+1], 5)\n",
    "        threshold_diff = np.max(np.abs(np.diff(new_thresholds)))\n",
    "        thresholds = new_thresholds\n",
    "    return optimal_threshold\n",
    "def denoise(data, wavelet='db7', level=9):\n",
    "    optimal_threshold = find_optimal_threshold(data, wavelet=wavelet, level=level)\n",
    "    coeffs = pywt.wavedec(data=data, wavelet=wavelet, level=level)\n",
    "    for i in range(1, len(coeffs)):\n",
    "        coeffs[i] = pywt.threshold(coeffs[i], optimal_threshold, mode='soft')\n",
    "    rdata = pywt.waverec(coeffs=coeffs, wavelet=wavelet)\n",
    "    return rdata"
   ]
  },
  {
   "cell_type": "code",
   "execution_count": 4,
   "metadata": {},
   "outputs": [
    {
     "name": "stderr",
     "output_type": "stream",
     "text": [
      "c:\\ProgramData\\anaconda3\\envs\\tensorflow\\lib\\site-packages\\pywt\\_multilevel.py:43: UserWarning: Level value of 9 is too high: all coefficients will experience boundary effects.\n",
      "  warnings.warn(\n"
     ]
    }
   ],
   "source": [
    "X_val_denoise = [denoise(signal) for signal in (X_val)]"
   ]
  },
  {
   "cell_type": "code",
   "execution_count": 5,
   "metadata": {},
   "outputs": [],
   "source": [
    "X_test_denoise = [denoise(signal) for signal in (X_test)]"
   ]
  },
  {
   "cell_type": "code",
   "execution_count": 6,
   "metadata": {},
   "outputs": [],
   "source": [
    "X_train_denoise = [denoise(signal) for signal in (X_train)]"
   ]
  },
  {
   "cell_type": "code",
   "execution_count": 8,
   "metadata": {},
   "outputs": [],
   "source": [
    "X_train_denoise_matrix = np.array(X_train_denoise)\n",
    "X_val_denoise_matrix = np.array(X_val_denoise)\n",
    "X_test_denoise_matrix = np.array(X_test_denoise)"
   ]
  },
  {
   "cell_type": "code",
   "execution_count": 9,
   "metadata": {},
   "outputs": [],
   "source": [
    "X_train_denoise = X_train_denoise_matrix.astype(np.int16)\n",
    "X_val_denoise = X_val_denoise_matrix .astype(np.int16)\n",
    "X_test_denoise = X_test_denoise_matrix.astype(np.int16)"
   ]
  },
  {
   "cell_type": "code",
   "execution_count": null,
   "metadata": {},
   "outputs": [],
   "source": [
    "np.savez('cinc2017denoise',ecgstrain=X_train_denoise_matrix,labelstrain= y_train,ecgstest=X_test_denoise_matrix,labelstest= y_test,ecgsval=X_val_denoise_matrix,labelsval= y_val)"
   ]
  }
 ],
 "metadata": {
  "kernelspec": {
   "display_name": "tensorflow",
   "language": "python",
   "name": "python3"
  },
  "language_info": {
   "codemirror_mode": {
    "name": "ipython",
    "version": 3
   },
   "file_extension": ".py",
   "mimetype": "text/x-python",
   "name": "python",
   "nbconvert_exporter": "python",
   "pygments_lexer": "ipython3",
   "version": "3.9.17"
  }
 },
 "nbformat": 4,
 "nbformat_minor": 2
}
