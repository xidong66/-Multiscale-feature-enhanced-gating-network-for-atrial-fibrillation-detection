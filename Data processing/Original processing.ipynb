{
 "cells": [
  {
   "cell_type": "code",
   "execution_count": 1,
   "metadata": {},
   "outputs": [
    {
     "name": "stderr",
     "output_type": "stream",
     "text": [
      "c:\\ProgramData\\anaconda3\\envs\\tensorflow\\lib\\site-packages\\scipy\\__init__.py:132: UserWarning: A NumPy version >=1.21.6 and <1.28.0 is required for this version of SciPy (detected version 1.20.3)\n",
      "  warnings.warn(f\"A NumPy version >={np_minversion} and <{np_maxversion}\"\n"
     ]
    }
   ],
   "source": [
    "import os\n",
    "import numpy as np\n",
    "import pandas as pd\n",
    "import scipy.io\n",
    "from utils import count_labels\n",
    "# 忽略警告\n",
    "np.warnings.filterwarnings('ignore')\n",
    "\n",
    "# 定义采样频率\n",
    "fs = 300\n",
    "\n",
    "# 数据目录路径\n",
    "data_dir = 'C:\\\\Users\\\\Administrator\\\\Desktop\\\\database\\\\training2017\\\\'\n",
    "\n",
    "# 读取csv注释文件获取标签\n",
    "ref = pd.read_csv(data_dir + 'REFERENCE-original.csv', names=['record', 'rhythm'])\n",
    "rhythm2 = np.array(ref['rhythm'])  # 分类变成Non-AF和AF\n",
    "\n",
    "# 创建字典表格\n",
    "ref_dict = dict(zip(ref['record'], ref['rhythm']))\n",
    "ref2_dict = dict(zip(ref['record'], rhythm2))\n",
    "\n",
    "# 从文件路径中提取文件名，不包含后缀\n",
    "base = lambda f: os.path.splitext(os.path.basename(f))[0]\n",
    "\n",
    "# 提取文件名\n",
    "files = ref['record']\n",
    "\n",
    "# 初始化列表\n",
    "ecgs = []\n",
    "SID = []\n",
    "ecgs1 = []\n",
    "labels = []\n",
    "labels2 = []\n",
    "\n"
   ]
  },
  {
   "cell_type": "code",
   "execution_count": 2,
   "metadata": {},
   "outputs": [
    {
     "name": "stdout",
     "output_type": "stream",
     "text": [
      "     SubjectID 2 Class Label 3 Class Label\n",
      "0       A00001             N             N\n",
      "1       A00002             N             N\n",
      "2       A00003             N             N\n",
      "3       A00004             A             A\n",
      "4       A00005             O             O\n",
      "...        ...           ...           ...\n",
      "8523    A08524             N             N\n",
      "8524    A08525             O             O\n",
      "8525    A08526             N             N\n",
      "8526    A08527             N             N\n",
      "8527    A08528             N             N\n",
      "\n",
      "[8528 rows x 3 columns]\n"
     ]
    }
   ],
   "source": [
    "for f in files:\n",
    "    ecgdata = scipy.io.loadmat(data_dir + f)['val']\n",
    "    ecgdata = ecgdata.ravel()  \n",
    "    ecgs.append(ecgdata)\n",
    "    labels.append(ref_dict[base(f)]) \n",
    "    labels2.append(ref2_dict[base(f)])  \n",
    "    SID.append(base(f))\n",
    "print(pd.DataFrame(zip(SID, labels2, labels), columns=['SubjectID', '2 Class Label', '3 Class Label']))\n"
   ]
  },
  {
   "cell_type": "code",
   "execution_count": 3,
   "metadata": {},
   "outputs": [
    {
     "name": "stdout",
     "output_type": "stream",
     "text": [
      "18347 18347\n"
     ]
    }
   ],
   "source": [
    "import numpy as np\n",
    "import random\n",
    "\n",
    "def segment_signals(ecgs, labels):\n",
    "    # 初始化存储最终处理后的信号和标签的列表\n",
    "    ecgs_final = []\n",
    "    labels_final = []\n",
    "\n",
    "    # 随机打乱数据集\n",
    "    dataset = list(zip(ecgs, labels))\n",
    "    random.shuffle(dataset)\n",
    "    ecgs, labels = zip(*dataset)\n",
    "\n",
    "    # 处理数据集，将大于14000的信号切割成两半\n",
    "    for ecgdata, label in zip(ecgs, labels):\n",
    "        if len(ecgdata) > 14000:\n",
    "            # 切割成两半，每半小于等于14000\n",
    "            half_len = len(ecgdata) // 2\n",
    "            first_half = ecgdata[:half_len]\n",
    "            second_half = ecgdata[half_len:]\n",
    "            ecgs_final.extend([first_half, second_half])\n",
    "            labels_final.extend([label] * 2)\n",
    "        else:\n",
    "            ecgs_final.append(ecgdata)\n",
    "            labels_final.append(label)\n",
    "\n",
    "    # 处理数据集，将大于7000的信号切割成两半\n",
    "    # 这里需要重新收集所有ecgs_final的数据，因为列表在前面被修改过\n",
    "    ecgs, labels = zip(*[(ecg, label) for ecg, label in zip(ecgs_final, labels_final) if len(ecg) > 7000])\n",
    "\n",
    "    # 将大于7000的信号切割成两半\n",
    "    for i, (ecgdata, label) in enumerate(zip(ecgs_final, labels_final)):\n",
    "        if len(ecgdata) > 7000:\n",
    "            half_len = 7000  # 设置切割长度为7000\n",
    "            first_half = ecgdata[:half_len]\n",
    "            second_half = ecgdata[-half_len:]  # 取后半段7000\n",
    "            # 替换原来的信号和标签\n",
    "            ecgs_final[i] = first_half\n",
    "            ecgs_final.insert(i + 1, second_half)\n",
    "            labels_final[i] = label\n",
    "            labels_final.insert(i + 1, label)\n",
    "\n",
    "    # 调整所有信号到4500长度\n",
    "    for i, ecgdata in enumerate(ecgs_final):\n",
    "        if len(ecgdata) > 4500:\n",
    "            # 如果信号长度大于4500，随机截取4500个样本点\n",
    "            start_index = np.random.randint(0, len(ecgdata) - 4500 + 1)\n",
    "            ecgs_final[i] = ecgdata[start_index:start_index + 4500]\n",
    "        elif len(ecgdata) < 4500:\n",
    "            # 如果信号长度小于4500，使用信号自身的片段补齐至4500\n",
    "            repeat_times = (4500 // len(ecgdata)) + (1 if 4500 % len(ecgdata) else 0)\n",
    "            additional_ecg = np.tile(ecgdata, (repeat_times,))\n",
    "            ecgs_final[i] = additional_ecg[:4500]\n",
    "\n",
    "    return ecgs_final, labels_final\n",
    "\n",
    "# 使用示例\n",
    "# 假设 ecgs 和 labels 是您的原始信号和标签列表\n",
    "ecgs1, labels1 = segment_signals(ecgs, labels)\n",
    "print(len(ecgs1), len(labels1))\n",
    "\n",
    "\n",
    "def merge_and_segment(ecgs, labels, threshold):\n",
    "    merged_ecgs = []\n",
    "    merged_labels = []\n",
    "    for ecgdata, label in zip(ecgs, labels):\n",
    "        if len(ecgdata) > threshold:\n",
    "            first_half = ecgdata[:threshold]\n",
    "            second_half = ecgdata[-threshold:]\n",
    "            merged_ecgs.extend([first_half, second_half])\n",
    "            merged_labels.extend([label] * 2)\n",
    "        else:\n",
    "            merged_ecgs.append(ecgdata)\n",
    "            merged_labels.append(label)\n",
    "    return merged_ecgs, merged_labels\n",
    "def adjust_to_4500(ecgs, labels):\n",
    "    ecgs_4500 = []\n",
    "    for ecgdata, label in zip(ecgs, labels):\n",
    "        if len(ecgdata) > 4500:\n",
    "            start_index = np.random.randint(0, len(ecgdata) - 4500)\n",
    "            trimmed_ecg = ecgdata[start_index:start_index + 4500]\n",
    "            ecgs_4500.append(trimmed_ecg)\n",
    "        elif len(ecgdata) == 4500:\n",
    "            ecgs_4500.append(ecgdata)\n",
    "        else:\n",
    "            additional_ecg = select_additional_ecg(label, ecgs, labels)\n",
    "            repeat_times = 4500 // len(ecgdata)\n",
    "            additional_ecg = np.tile(ecgdata, (repeat_times,)) if repeat_times > 0 else np.array([])\n",
    "            remainder = 4500 - len(additional_ecg)\n",
    "            ecgs_4500.append(np.concatenate((additional_ecg, ecgdata[:remainder])))\n",
    "    return ecgs_4500\n",
    "def select_additional_ecg(label, ecgs, labels):\n",
    "    same_label_ecgs = [e for e, l in zip(ecgs, labels) if l == label]\n",
    "    if not same_label_ecgs:\n",
    "        return np.array([]) \n",
    "    longest_ecg = max(same_label_ecgs, key=len)\n",
    "    return longest_ecg\n",
    "def select_additional_ecg(ecgdata, max_length):\n",
    "    repeat_times = (max_length // len(ecgdata)) + (1 if max_length % len(ecgdata) else 0)\n",
    "    additional_ecg = np.tile(ecgdata, (repeat_times,))\n",
    "    return additional_ecg[:max_length]"
   ]
  },
  {
   "cell_type": "code",
   "execution_count": 4,
   "metadata": {},
   "outputs": [
    {
     "name": "stdout",
     "output_type": "stream",
     "text": [
      "18347 18347\n"
     ]
    }
   ],
   "source": [
    "ecgs1, labels1 = segment_signals(ecgs, labels)\n",
    "print(len(ecgs1), len(labels1))"
   ]
  },
  {
   "cell_type": "code",
   "execution_count": 5,
   "metadata": {},
   "outputs": [
    {
     "data": {
      "text/plain": [
       "{'A': 1630, 'N': 10865, 'O': 5771, '~': 81}"
      ]
     },
     "execution_count": 5,
     "metadata": {},
     "output_type": "execute_result"
    }
   ],
   "source": [
    "count_labels(labels1)"
   ]
  },
  {
   "cell_type": "code",
   "execution_count": 6,
   "metadata": {},
   "outputs": [],
   "source": [
    "np.savez('cinc2017_seg8.npz', ecgs=ecgs1, labels=labels1)"
   ]
  }
 ],
 "metadata": {
  "kernelspec": {
   "display_name": "base",
   "language": "python",
   "name": "python3"
  },
  "language_info": {
   "codemirror_mode": {
    "name": "ipython",
    "version": 3
   },
   "file_extension": ".py",
   "mimetype": "text/x-python",
   "name": "python",
   "nbconvert_exporter": "python",
   "pygments_lexer": "ipython3",
   "version": "3.9.17"
  },
  "orig_nbformat": 4,
  "vscode": {
   "interpreter": {
    "hash": "7dc5ee7e98aa458697da1ef67ee282dbe818368a879337b797e62050ee11b39d"
   }
  }
 },
 "nbformat": 4,
 "nbformat_minor": 2
}
